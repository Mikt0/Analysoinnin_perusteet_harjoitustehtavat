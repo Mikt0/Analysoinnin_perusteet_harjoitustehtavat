{
 "cells": [
  {
   "cell_type": "code",
   "execution_count": null,
   "metadata": {},
   "outputs": [
    {
     "name": "stdout",
     "output_type": "stream",
     "text": [
      "table chair\n",
      "sofa\n"
     ]
    }
   ],
   "source": [
    "FurnitureList = [\"table\", \"chair\", \"bed\", \"sofa\"]\n",
    "print(FurnitureList [0] + \" \" + FurnitureList [1])\n",
    "\n",
    "for item in FurnitureList:\n",
    "    if item == 'sofa':\n",
    "        print(FurnitureList [3])\n",
    "        break\n",
    "    "
   ]
  },
  {
   "cell_type": "code",
   "execution_count": null,
   "metadata": {},
   "outputs": [
    {
     "name": "stdout",
     "output_type": "stream",
     "text": [
      "[2, 4, 4, 5, 1]\n",
      "16\n",
      "5\n"
     ]
    }
   ],
   "source": [
    "thrownDiceNumbers = [2, 4, 4, 5, 1]\n",
    "print(thrownDiceNumbers)\n",
    "print(sum(thrownDiceNumbers))\n",
    "print(max(thrownDiceNumbers))"
   ]
  },
  {
   "cell_type": "code",
   "execution_count": null,
   "metadata": {},
   "outputs": [
    {
     "name": "stdout",
     "output_type": "stream",
     "text": [
      "[13, 16, 18, 9, 7]\n"
     ]
    }
   ],
   "source": [
    "import random\n",
    "\n",
    "randomNumbers = []\n",
    "\n",
    "while len(randomNumbers)<5:\n",
    "    number = random.randint(1,20)\n",
    "    if number not in randomNumbers:\n",
    "        randomNumbers.append(number)\n",
    "\n",
    "print(randomNumbers) \n"
   ]
  }
 ],
 "metadata": {
  "kernelspec": {
   "display_name": "Python 3",
   "language": "python",
   "name": "python3"
  },
  "language_info": {
   "codemirror_mode": {
    "name": "ipython",
    "version": 3
   },
   "file_extension": ".py",
   "mimetype": "text/x-python",
   "name": "python",
   "nbconvert_exporter": "python",
   "pygments_lexer": "ipython3",
   "version": "3.13.0"
  }
 },
 "nbformat": 4,
 "nbformat_minor": 2
}
