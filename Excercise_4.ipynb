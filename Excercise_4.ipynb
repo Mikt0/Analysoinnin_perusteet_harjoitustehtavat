{
 "cells": [
  {
   "cell_type": "code",
   "execution_count": 63,
   "metadata": {},
   "outputs": [
    {
     "name": "stdout",
     "output_type": "stream",
     "text": [
      "M\n",
      "Mi\n",
      "Congratulations!\n",
      "It took you 3 guesses to guess right!\n"
     ]
    }
   ],
   "source": [
    "counter = 0\n",
    "answer = \"Mikael\"\n",
    "i = 1\n",
    "\n",
    "while True:\n",
    "    guess = input(\"Please, guess a name\")\n",
    "    counter += 1\n",
    "    if guess == answer:\n",
    "        print(\"Congratulations!\")\n",
    "        print(f\"It took you {counter} guesses to guess right!\")\n",
    "        break\n",
    "    if guess != answer:\n",
    "        stop = input(\"Do you want to quit (y/n)? \")\n",
    "        if stop == \"y\":\n",
    "            break\n",
    "        print(answer[0:i])\n",
    "        i += 1"
   ]
  }
 ],
 "metadata": {
  "kernelspec": {
   "display_name": "Python 3",
   "language": "python",
   "name": "python3"
  },
  "language_info": {
   "codemirror_mode": {
    "name": "ipython",
    "version": 3
   },
   "file_extension": ".py",
   "mimetype": "text/x-python",
   "name": "python",
   "nbconvert_exporter": "python",
   "pygments_lexer": "ipython3",
   "version": "3.13.0"
  }
 },
 "nbformat": 4,
 "nbformat_minor": 2
}
