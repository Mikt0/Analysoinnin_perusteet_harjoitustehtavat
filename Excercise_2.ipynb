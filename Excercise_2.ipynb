{
 "cells": [
  {
   "cell_type": "code",
   "execution_count": 5,
   "metadata": {},
   "outputs": [
    {
     "name": "stdout",
     "output_type": "stream",
     "text": [
      "Numbers are not equal\n",
      "Number1 is smaller than number2\n",
      "Number1 is smaller than number2\n",
      "Number1 is not equal to number2\n",
      "None of the numbers are equal\n",
      "Number1 is smaller than number2 and number3\n",
      "Number 2 is greater than number3\n",
      "None of the numbers are equal\n"
     ]
    }
   ],
   "source": [
    "number1 = 5\n",
    "number2 = 8\n",
    "number3 = 6\n",
    "\n",
    "if number1 == number2 and number2 == number3:\n",
    "    print(\"Numbers are equal\")\n",
    "else:\n",
    "    print(\"Numbers are not equal\")\n",
    "if number1 > number2:\n",
    "    print(\"Number1 is greater than number2\")\n",
    "else:\n",
    "    print(\"Number1 is smaller than number2\")\n",
    "if number1 >= number2:\n",
    "    print(\"Number1 is greater or equal to number2\")\n",
    "else:\n",
    "    print(\"Number1 is smaller than number2\")\n",
    "if number1 != number2:\n",
    "    print(\"Number1 is not equal to number2\")\n",
    "else:\n",
    "    print(\"Number1 is equal to number2\")\n",
    "if number1 == number2 | number2 == number3:\n",
    "    print(\"Number1 is equal to number2 or number2 is equal to number3\")\n",
    "else:\n",
    "    print(\"None of the numbers are equal\")\n",
    "if number1 > number2 and number1 > number3:\n",
    "    print(\"Number1 is greater than number2 and number3\")\n",
    "else:\n",
    "    print(\"Number1 is smaller than number2 and number3\")\n",
    "if number1 > number2:\n",
    "    print(\"Number1 is greater than number2\")\n",
    "elif number2 > number3:\n",
    "    print(\"Number 2 is greater than number3\")\n",
    "else:\n",
    "    print(\"Number1 is smaller than number2 and number2 is smaller than number3\")\n",
    "if number1 == number2:\n",
    "    print(\"Number1 and number2 are equal\")\n",
    "elif number1 == number3:\n",
    "    print(\"Number1 and number3 are not equal\")\n",
    "else:\n",
    "    print(\"None of the numbers are equal\")"
   ]
  },
  {
   "cell_type": "code",
   "execution_count": 6,
   "metadata": {},
   "outputs": [
    {
     "name": "stdout",
     "output_type": "stream",
     "text": [
      "Name1 and name2 are not equal\n"
     ]
    }
   ],
   "source": [
    "name1 = \"Vesa\"\n",
    "name2 = \"Väinö\"\n",
    "name3 = \"Mikael\"\n",
    "\n",
    "if name1 == name2:\n",
    "    print(\"Name1 and name2 are equal\")\n",
    "elif name1 != name2:\n",
    "    print(\"Name1 and name2 are not equal\")\n",
    "elif name1 == name2:\n",
    "    print(\"Name1 and name2 are equal\")\n",
    "elif name1 == name3:\n",
    "    print(\"Name1 and name2 are equal\")\n",
    "else:\n",
    "    print(\"Error\")"
   ]
  }
 ],
 "metadata": {
  "kernelspec": {
   "display_name": "Python 3",
   "language": "python",
   "name": "python3"
  },
  "language_info": {
   "codemirror_mode": {
    "name": "ipython",
    "version": 3
   },
   "file_extension": ".py",
   "mimetype": "text/x-python",
   "name": "python",
   "nbconvert_exporter": "python",
   "pygments_lexer": "ipython3",
   "version": "3.13.0"
  }
 },
 "nbformat": 4,
 "nbformat_minor": 2
}
